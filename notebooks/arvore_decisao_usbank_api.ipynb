{
  "nbformat": 4,
  "nbformat_minor": 0,
  "metadata": {
    "colab": {
      "name": "arvore_decisao_usbank_api.ipynb",
      "provenance": []
    },
    "kernelspec": {
      "name": "python3",
      "display_name": "Python 3"
    },
    "language_info": {
      "name": "python"
    }
  },
  "cells": [
    {
      "cell_type": "markdown",
      "source": [
        "Importação dos dados"
      ],
      "metadata": {
        "id": "eT9u3xUQ6x_K"
      }
    },
    {
      "cell_type": "code",
      "source": [
        "import pandas as pd\n",
        "import pickle\n",
        "from sklearn.model_selection import StratifiedShuffleSplit\n",
        "from sklearn import tree\n",
        "from sklearn.metrics import recall_score\n",
        "\n",
        "\n"
      ],
      "metadata": {
        "id": "0tuf7XEN7eCl"
      },
      "execution_count": 7,
      "outputs": []
    },
    {
      "cell_type": "code",
      "execution_count": 8,
      "metadata": {
        "id": "RqfFOMjwwIqY"
      },
      "outputs": [],
      "source": [
        "dados_usbank = pd.read_csv('dados_US_Bank_Tratados_Agrupados.csv', sep=';')"
      ]
    },
    {
      "cell_type": "code",
      "source": [
        "dados_usbank.head(50)"
      ],
      "metadata": {
        "id": "MWvrXQ9HZFUu"
      },
      "execution_count": null,
      "outputs": []
    },
    {
      "cell_type": "markdown",
      "source": [
        "Separação treino e teste\n"
      ],
      "metadata": {
        "id": "qIg41oGU8pe5"
      }
    },
    {
      "cell_type": "code",
      "source": [
        "#Separação dos arquivos de treino e teste\n",
        "\n",
        "def executar_train_test(X, y):\n",
        "  divisor = StratifiedShuffleSplit(n_splits=1, test_size=0.1, random_state=0)\n",
        "  for treino_id, teste_id in divisor.split(X, y):\n",
        "    X_train, X_test = X.iloc[treino_id], X.iloc[teste_id]\n",
        "    y_train, y_test = y.iloc[treino_id], y.iloc[teste_id]\n",
        "  return X_train, X_test, y_train, y_test"
      ],
      "metadata": {
        "id": "Ol8OZ8_09ogT"
      },
      "execution_count": 9,
      "outputs": []
    },
    {
      "cell_type": "code",
      "source": [
        "# separando variavel alvo\n",
        "X = dados_usbank.drop(['Outcome'], axis= 1)\n",
        "y = dados_usbank['Outcome']\n",
        "X_train, X_test, y_train, y_test = executar_train_test(X, y)"
      ],
      "metadata": {
        "id": "K0H9kSqN_2LK"
      },
      "execution_count": 10,
      "outputs": []
    },
    {
      "cell_type": "code",
      "source": [
        "executar_train_test(X,y)"
      ],
      "metadata": {
        "id": "diZPYoeo_viW"
      },
      "execution_count": null,
      "outputs": []
    },
    {
      "cell_type": "markdown",
      "source": [
        "Treinando  o modelo\n"
      ],
      "metadata": {
        "id": "9Vxa9d6bBK5O"
      }
    },
    {
      "cell_type": "code",
      "source": [
        "SEED = 0\n",
        "usbank_model = tree.DecisionTreeClassifier(max_depth=7, random_state=SEED, min_samples_leaf=5)"
      ],
      "metadata": {
        "id": "w4b9Jp4OBOZH"
      },
      "execution_count": 12,
      "outputs": []
    },
    {
      "cell_type": "code",
      "source": [
        "usbank_model.fit(X_train, y_train)\n",
        "y_pred = usbank_model.predict(X_test)"
      ],
      "metadata": {
        "id": "vlV5m32zCXbb"
      },
      "execution_count": 13,
      "outputs": []
    },
    {
      "cell_type": "markdown",
      "source": [
        "Avaliando modelo"
      ],
      "metadata": {
        "id": "SLeW-mHaDnon"
      }
    },
    {
      "cell_type": "code",
      "source": [
        "score = recall_score(y_test, y_pred)"
      ],
      "metadata": {
        "id": "QrsNVotKC8p_"
      },
      "execution_count": 14,
      "outputs": []
    },
    {
      "cell_type": "code",
      "source": [
        "print(score)"
      ],
      "metadata": {
        "id": "u_Mw9FoIDJKp"
      },
      "execution_count": null,
      "outputs": []
    },
    {
      "cell_type": "markdown",
      "source": [
        "salvando modelo"
      ],
      "metadata": {
        "id": "sRmTAI34G7wC"
      }
    },
    {
      "cell_type": "code",
      "source": [
        "with open('usbank_model.sav', 'wb') as f:\n",
        "  pickle.dump(usbank_model, f)\n"
      ],
      "metadata": {
        "id": "Zo2UVg2xEyT3"
      },
      "execution_count": 16,
      "outputs": []
    },
    {
      "cell_type": "code",
      "source": [
        "dados_usbank['ConnectionTime'] = dados_usbank['ConnectionTime'].astype(int)"
      ],
      "metadata": {
        "id": "jwllqVbwUD9g"
      },
      "execution_count": 19,
      "outputs": []
    }
  ]
}